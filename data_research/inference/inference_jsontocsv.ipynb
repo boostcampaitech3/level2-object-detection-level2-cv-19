{
 "cells": [
  {
   "cell_type": "code",
   "execution_count": 2,
   "metadata": {},
   "outputs": [],
   "source": [
    "import pandas as pd\n",
    "import numpy as np\n",
    "import json\n",
    "from tqdm import tqdm\n",
    "from pycocotools.coco import COCO"
   ]
  },
  {
   "cell_type": "markdown",
   "metadata": {},
   "source": [
    "## YOLO json"
   ]
  },
  {
   "cell_type": "code",
   "execution_count": 44,
   "metadata": {},
   "outputs": [],
   "source": [
    "data = pd.read_json(\"./yolo.json\")\n",
    "confidence = 0.40\n",
    "dataset = \"train\" #\"test\"\n",
    "dataset_len = 4883 #4871"
   ]
  },
  {
   "cell_type": "code",
   "execution_count": 50,
   "metadata": {},
   "outputs": [
    {
     "name": "stderr",
     "output_type": "stream",
     "text": [
      "100%|██████████| 3906/3906 [00:17<00:00, 218.98it/s]\n"
     ]
    }
   ],
   "source": [
    "prediction_strings = []\n",
    "file_names = []\n",
    "idx = 0\n",
    "\n",
    "for i in tqdm(data.groupby(by=[\"image_id\"])):\n",
    "    image_id = i[0]\n",
    "    if(idx < image_id): \n",
    "        while(idx != image_id):\n",
    "            prediction_strings.append(\" \")\n",
    "            file_names.append(dataset + \"/\" + str(idx + 10000)[1:] + \".jpg\")\n",
    "            idx += 1\n",
    "            \n",
    "    prediction_string = \"\"\n",
    "    for j in i[1].iterrows():\n",
    "        if j[1].score < confidence:\n",
    "            continue\n",
    "        blk = [j[1].category_id, round(j[1].score,15), j[1].bbox[0], j[1].bbox[1], j[1].bbox[0] + j[1].bbox[2], j[1].bbox[1] + j[1].bbox[3]]\n",
    "        blk = list(map(lambda x : str(x) + \" \" ,blk))\n",
    "        for i in blk:\n",
    "            prediction_string += i\n",
    "        #print(blk)\n",
    "        #print(j[1]) \n",
    "    file_name = dataset + \"/\" + str(image_id + 10000)[1:] + \".jpg\"\n",
    "    idx += 1\n",
    "    prediction_strings.append(prediction_string)\n",
    "    file_names.append(file_name)\n",
    "\n",
    "if(idx < dataset_len): \n",
    "    while(idx == dataset_len - 1):\n",
    "        prediction_strings.append(\" \")\n",
    "        file_names.append(dataset + \"/\" + str(idx + 10000)[1:] + \".jpg\")\n",
    "        idx += 1\n"
   ]
  },
  {
   "cell_type": "code",
   "execution_count": 56,
   "metadata": {},
   "outputs": [
    {
     "data": {
      "text/html": [
       "<div>\n",
       "<style scoped>\n",
       "    .dataframe tbody tr th:only-of-type {\n",
       "        vertical-align: middle;\n",
       "    }\n",
       "\n",
       "    .dataframe tbody tr th {\n",
       "        vertical-align: top;\n",
       "    }\n",
       "\n",
       "    .dataframe thead th {\n",
       "        text-align: right;\n",
       "    }\n",
       "</style>\n",
       "<table border=\"1\" class=\"dataframe\">\n",
       "  <thead>\n",
       "    <tr style=\"text-align: right;\">\n",
       "      <th></th>\n",
       "      <th>PredictionString</th>\n",
       "      <th>image_id</th>\n",
       "    </tr>\n",
       "  </thead>\n",
       "  <tbody>\n",
       "    <tr>\n",
       "      <th>0</th>\n",
       "      <td>0 0.97872 199.491 193.15 745.552 662.52</td>\n",
       "      <td>train/0000.jpg</td>\n",
       "    </tr>\n",
       "    <tr>\n",
       "      <th>1</th>\n",
       "      <td></td>\n",
       "      <td>train/0001.jpg</td>\n",
       "    </tr>\n",
       "    <tr>\n",
       "      <th>2</th>\n",
       "      <td>3 0.97974 265.743 162.129 897.924 675.842</td>\n",
       "      <td>train/0002.jpg</td>\n",
       "    </tr>\n",
       "    <tr>\n",
       "      <th>3</th>\n",
       "      <td>2 0.97316 462.929 369.406 695.233 627.20800000...</td>\n",
       "      <td>train/0003.jpg</td>\n",
       "    </tr>\n",
       "    <tr>\n",
       "      <th>4</th>\n",
       "      <td>1 0.96775 858.852 412.719 1023.088 613.342 1 0...</td>\n",
       "      <td>train/0004.jpg</td>\n",
       "    </tr>\n",
       "  </tbody>\n",
       "</table>\n",
       "</div>"
      ],
      "text/plain": [
       "                                    PredictionString        image_id\n",
       "0           0 0.97872 199.491 193.15 745.552 662.52   train/0000.jpg\n",
       "1                                                     train/0001.jpg\n",
       "2         3 0.97974 265.743 162.129 897.924 675.842   train/0002.jpg\n",
       "3  2 0.97316 462.929 369.406 695.233 627.20800000...  train/0003.jpg\n",
       "4  1 0.96775 858.852 412.719 1023.088 613.342 1 0...  train/0004.jpg"
      ]
     },
     "execution_count": 56,
     "metadata": {},
     "output_type": "execute_result"
    }
   ],
   "source": [
    "\n",
    "submission = pd.DataFrame()\n",
    "submission['PredictionString'] = prediction_strings\n",
    "submission['image_id'] = file_names\n",
    "submission.to_csv('./submission.csv', index=None)\n",
    "submission.head()"
   ]
  },
  {
   "cell_type": "markdown",
   "metadata": {},
   "source": [
    "---\n",
    "## Confidence edit  \n",
    "### COCO json-> CSV"
   ]
  },
  {
   "cell_type": "code",
   "execution_count": 7,
   "metadata": {},
   "outputs": [
    {
     "name": "stdout",
     "output_type": "stream",
     "text": [
      "loading annotations into memory...\n",
      "Done (t=0.93s)\n",
      "creating index...\n",
      "index created!\n"
     ]
    }
   ],
   "source": [
    "coco = COCO(\"./coco.json\")\n",
    "confidence = 0.4\n",
    "#dataset = \"test\" if coco.loadImgs(coco.getImgIds()[0])[0]['file_name'][:4] == 'test' else \"train\""
   ]
  },
  {
   "cell_type": "code",
   "execution_count": 8,
   "metadata": {},
   "outputs": [
    {
     "name": "stderr",
     "output_type": "stream",
     "text": [
      "100%|██████████| 4871/4871 [00:00<00:00, 18123.74it/s]\n"
     ]
    }
   ],
   "source": [
    "file_names = []\n",
    "strings = []\n",
    "for image_id in tqdm(coco.getImgIds()):\n",
    "    image_info = coco.loadImgs(image_id)[0]\n",
    "    annotation_id = coco.getAnnIds(imgIds=image_info['id'])\n",
    "    annotation_info_list = coco.loadAnns(annotation_id)\n",
    "    string = \"\"\n",
    "    for ano in annotation_info_list:\n",
    "        if ano['score'] < confidence:\n",
    "            continue\n",
    "        blk = [ano['category_id'], ano['score'], ano['bbox'][0], ano['bbox'][1], ano['bbox'][2] + ano['bbox'][0], ano['bbox'][3] + ano['bbox'][1]]\n",
    "        blk = list(map(lambda x : str(x) + \" \" ,blk))\n",
    "        for i in blk:\n",
    "            string += i\n",
    "    \n",
    "    file_name = image_info['file_name']\n",
    "    strings.append(string)\n",
    "    \n",
    "    file_names.append(file_name)"
   ]
  },
  {
   "cell_type": "code",
   "execution_count": 9,
   "metadata": {},
   "outputs": [
    {
     "data": {
      "text/html": [
       "<div>\n",
       "<style scoped>\n",
       "    .dataframe tbody tr th:only-of-type {\n",
       "        vertical-align: middle;\n",
       "    }\n",
       "\n",
       "    .dataframe tbody tr th {\n",
       "        vertical-align: top;\n",
       "    }\n",
       "\n",
       "    .dataframe thead th {\n",
       "        text-align: right;\n",
       "    }\n",
       "</style>\n",
       "<table border=\"1\" class=\"dataframe\">\n",
       "  <thead>\n",
       "    <tr style=\"text-align: right;\">\n",
       "      <th></th>\n",
       "      <th>PredictionString</th>\n",
       "      <th>image_id</th>\n",
       "    </tr>\n",
       "  </thead>\n",
       "  <tbody>\n",
       "    <tr>\n",
       "      <th>0</th>\n",
       "      <td>7 0.998166561126709 219.02938842773438 55.1456...</td>\n",
       "      <td>test/0000.jpg</td>\n",
       "    </tr>\n",
       "    <tr>\n",
       "      <th>1</th>\n",
       "      <td>3 0.919633686542511 340.2513122558594 265.1795...</td>\n",
       "      <td>test/0001.jpg</td>\n",
       "    </tr>\n",
       "    <tr>\n",
       "      <th>2</th>\n",
       "      <td>1 0.9743971824645996 289.17340087890625 291.05...</td>\n",
       "      <td>test/0002.jpg</td>\n",
       "    </tr>\n",
       "    <tr>\n",
       "      <th>3</th>\n",
       "      <td>9 0.98899906873703 166.99288940429688 278.7833...</td>\n",
       "      <td>test/0003.jpg</td>\n",
       "    </tr>\n",
       "    <tr>\n",
       "      <th>4</th>\n",
       "      <td>9 0.5510952472686768 443.4324951171875 411.139...</td>\n",
       "      <td>test/0004.jpg</td>\n",
       "    </tr>\n",
       "  </tbody>\n",
       "</table>\n",
       "</div>"
      ],
      "text/plain": [
       "                                    PredictionString       image_id\n",
       "0  7 0.998166561126709 219.02938842773438 55.1456...  test/0000.jpg\n",
       "1  3 0.919633686542511 340.2513122558594 265.1795...  test/0001.jpg\n",
       "2  1 0.9743971824645996 289.17340087890625 291.05...  test/0002.jpg\n",
       "3  9 0.98899906873703 166.99288940429688 278.7833...  test/0003.jpg\n",
       "4  9 0.5510952472686768 443.4324951171875 411.139...  test/0004.jpg"
      ]
     },
     "execution_count": 9,
     "metadata": {},
     "output_type": "execute_result"
    }
   ],
   "source": [
    "submission = pd.DataFrame()\n",
    "submission['PredictionString'] = strings\n",
    "submission['image_id'] = file_names\n",
    "submission.to_csv('./submissionCOCO_040.csv', index=None)\n",
    "submission.head()"
   ]
  },
  {
   "cell_type": "code",
   "execution_count": null,
   "metadata": {},
   "outputs": [],
   "source": []
  }
 ],
 "metadata": {
  "interpreter": {
   "hash": "d4d1e4263499bec80672ea0156c357c1ee493ec2b1c70f0acce89fc37c4a6abe"
  },
  "kernelspec": {
   "display_name": "Python 3.8.12 ('base')",
   "language": "python",
   "name": "python3"
  },
  "language_info": {
   "codemirror_mode": {
    "name": "ipython",
    "version": 3
   },
   "file_extension": ".py",
   "mimetype": "text/x-python",
   "name": "python",
   "nbconvert_exporter": "python",
   "pygments_lexer": "ipython3",
   "version": "3.8.12"
  },
  "orig_nbformat": 4
 },
 "nbformat": 4,
 "nbformat_minor": 2
}
