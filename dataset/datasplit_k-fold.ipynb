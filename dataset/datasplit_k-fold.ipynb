{
 "cells": [
  {
   "cell_type": "code",
   "execution_count": 2,
   "metadata": {},
   "outputs": [],
   "source": [
    "import os\n",
    "import shutil\n",
    "import numpy as np\n",
    "import pandas as pd\n",
    "\n",
    "from tqdm import tqdm\n",
    "from shutil import copyfile\n",
    "\n",
    "import json \n",
    "import numpy as np \n",
    "from sklearn.model_selection import StratifiedGroupKFold "
   ]
  },
  {
   "cell_type": "code",
   "execution_count": 27,
   "metadata": {},
   "outputs": [],
   "source": [
    "# 원본 이미지 경로 저장  \n",
    "img_PATH = './images/train/'\n",
    "txt_PATH = './labels/train/'\n",
    " \n",
    "list_img=[img for img in os.listdir(img_PATH) if img.endswith('.jpg')==True]\n",
    "list_txt=[img for img in os.listdir(txt_PATH) if img.endswith('.txt')==True]\n",
    "\n",
    "path_img=[]\n",
    "\n",
    "for i in range (len(list_img)):\n",
    "    path_img.append(img_PATH+list_img[i])\n",
    "    \n",
    "df=pd.DataFrame(path_img)\n",
    "df = df.sort_values(by=[0]).reset_index(drop=True)\n"
   ]
  },
  {
   "cell_type": "code",
   "execution_count": 59,
   "metadata": {},
   "outputs": [
    {
     "name": "stdout",
     "output_type": "stream",
     "text": [
      "TRAIN: [   0    1    1 ... 4882 4882 4882]\n",
      "No dirs\n"
     ]
    },
    {
     "name": "stderr",
     "output_type": "stream",
     "text": [
      "100%|██████████| 18808/18808 [00:25<00:00, 730.92it/s]\n",
      "100%|██████████| 4336/4336 [00:06<00:00, 661.68it/s]\n"
     ]
    },
    {
     "name": "stdout",
     "output_type": "stream",
     "text": [
      "TRAIN: [   0    1    1 ... 4882 4882 4882]\n",
      "No dirs\n"
     ]
    },
    {
     "name": "stderr",
     "output_type": "stream",
     "text": [
      "100%|██████████| 18052/18052 [00:26<00:00, 687.02it/s]\n",
      "100%|██████████| 5092/5092 [00:07<00:00, 723.71it/s]\n"
     ]
    },
    {
     "name": "stdout",
     "output_type": "stream",
     "text": [
      "TRAIN: [   1    1    1 ... 4882 4882 4882]\n",
      "No dirs\n"
     ]
    },
    {
     "name": "stderr",
     "output_type": "stream",
     "text": [
      "100%|██████████| 18438/18438 [00:26<00:00, 694.00it/s]\n",
      "100%|██████████| 4706/4706 [00:06<00:00, 721.52it/s]\n"
     ]
    },
    {
     "name": "stdout",
     "output_type": "stream",
     "text": [
      "TRAIN: [   0    2    4 ... 4881 4881 4881]\n",
      "No dirs\n"
     ]
    },
    {
     "name": "stderr",
     "output_type": "stream",
     "text": [
      "100%|██████████| 18573/18573 [00:27<00:00, 672.82it/s]\n",
      "100%|██████████| 4571/4571 [00:06<00:00, 697.77it/s]\n"
     ]
    },
    {
     "name": "stdout",
     "output_type": "stream",
     "text": [
      "TRAIN: [   0    1    1 ... 4882 4882 4882]\n",
      "No dirs\n"
     ]
    },
    {
     "name": "stderr",
     "output_type": "stream",
     "text": [
      "100%|██████████| 18705/18705 [00:27<00:00, 669.41it/s]\n",
      "100%|██████████| 4439/4439 [00:06<00:00, 700.63it/s]\n"
     ]
    }
   ],
   "source": [
    "#https://stages.ai/competitions/178/discussion/talk/post/1205 참고\n",
    "\n",
    "\n",
    "# load json \n",
    "annotation = \"./train.json\"\n",
    "NUM_FOLD = 5\n",
    "SEED = 42\n",
    "\n",
    "with open(annotation) as f: data = json.load(f)\n",
    "\n",
    "var = [(ann['image_id'], ann['category_id']) for ann in data['annotations']]\n",
    "X = np.ones((len(data['annotations']),1))\n",
    "y = np.array([v[1] for v in var])\n",
    "groups = np.array([v[0] for v in var]) \n",
    "\n",
    "cv = StratifiedGroupKFold(n_splits=NUM_FOLD, shuffle=True, random_state=SEED) \n",
    "\n",
    "for train_idx, val_idx in (cv.split(X, y, groups)):\n",
    "    NUM_FOLD -= 1\n",
    "    print(\"TRAIN:\", groups[train_idx])\n",
    "    # print(\" \", y[train_idx])\n",
    "    # print(\" TEST:\", groups[val_idx])\n",
    "    # print(\" \", y[val_idx])\n",
    "    try:\n",
    "        shutil.rmtree(f'dataset_folds_{NUM_FOLD}/images')\n",
    "        shutil.rmtree(f'dataset_folds_{NUM_FOLD}/labels')\n",
    "    except:\n",
    "        print('No dirs')\n",
    "\n",
    "    # Make new dirs\n",
    "    os.makedirs(f'dataset_folds_{NUM_FOLD}/images/train', exist_ok=True)\n",
    "    os.makedirs(f'dataset_folds_{NUM_FOLD}/images/valid', exist_ok=True)\n",
    "    os.makedirs(f'dataset_folds_{NUM_FOLD}/labels/train', exist_ok=True)\n",
    "    os.makedirs(f'dataset_folds_{NUM_FOLD}/labels/valid', exist_ok=True)\n",
    "\n",
    "    \n",
    "    # Move the images to relevant split folder.\n",
    "    for i in tqdm(groups[train_idx]):\n",
    "        idx = str(10000 + i)[1:]\n",
    "        copyfile(df.loc[i][0], f'dataset_folds_{NUM_FOLD}/images/train/{idx}.jpg')\n",
    "        copyfile(\"./labels\" + df.loc[i][0][8:-4] + \".txt\", f'dataset_folds_{NUM_FOLD}/labels/train/{idx}.txt')\n",
    "        \n",
    "    for i in tqdm(groups[val_idx]):\n",
    "        idx = str(10000 + i)[1:]\n",
    "        copyfile(df.loc[i][0], f'dataset_folds_{NUM_FOLD}/images/valid/{idx}.jpg')\n",
    "        copyfile(\"./labels\" + df.loc[i][0][8:-4] + \".txt\", f'dataset_folds_{NUM_FOLD}/labels/valid/{idx}.txt')"
   ]
  },
  {
   "cell_type": "code",
   "execution_count": 60,
   "metadata": {},
   "outputs": [
    {
     "name": "stdout",
     "output_type": "stream",
     "text": [
      "{names: [General trash, Paper, Paper pack, Metal, Glass, Plastic, Styrofoam, Plastic\n",
      "      bag, Battery, Clothing], nc: 10, train: ../dataset/dataset_folds_0/images/train,\n",
      "  val: ../dataset/dataset_folds_0/images/valid}\n"
     ]
    }
   ],
   "source": [
    "# Create .yaml file \n",
    "import yaml\n",
    "NUM_FOLD = 5\n",
    "\n",
    "for fold in range(NUM_FOLD):\n",
    "    data_yaml = dict(\n",
    "        train = f'../dataset/dataset_folds_{fold}/images/train',\n",
    "        val = f'../dataset/dataset_folds_{fold}/images/valid',\n",
    "        nc = 10,\n",
    "        names = [\"General trash\", \"Paper\", \"Paper pack\", \"Metal\", \"Glass\", \n",
    "           \"Plastic\", \"Styrofoam\", \"Plastic bag\", \"Battery\", \"Clothing\"]  # class names\n",
    "    )\n",
    "\n",
    "    # Note that I am creating the file in the yolov5/data/ directory.\n",
    "    with open(f'../yolov5/data/data_fold_{fold}.yaml', 'w') as outfile:\n",
    "        yaml.dump(data_yaml, outfile, default_flow_style=True)\n",
    "    \n",
    "%cat ../yolov5/data/data_fold_0.yaml"
   ]
  }
 ],
 "metadata": {
  "interpreter": {
   "hash": "d4d1e4263499bec80672ea0156c357c1ee493ec2b1c70f0acce89fc37c4a6abe"
  },
  "kernelspec": {
   "display_name": "Python 3.8.12 ('base')",
   "language": "python",
   "name": "python3"
  },
  "language_info": {
   "codemirror_mode": {
    "name": "ipython",
    "version": 3
   },
   "file_extension": ".py",
   "mimetype": "text/x-python",
   "name": "python",
   "nbconvert_exporter": "python",
   "pygments_lexer": "ipython3",
   "version": "3.8.12"
  },
  "orig_nbformat": 4
 },
 "nbformat": 4,
 "nbformat_minor": 2
}
