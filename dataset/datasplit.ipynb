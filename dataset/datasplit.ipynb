{
 "cells": [
  {
   "cell_type": "code",
   "execution_count": 27,
   "metadata": {},
   "outputs": [],
   "source": [
    "from sklearn.model_selection import train_test_split\n",
    "import pandas as pd \n",
    "import os \n"
   ]
  },
  {
   "cell_type": "code",
   "execution_count": 28,
   "metadata": {},
   "outputs": [],
   "source": [
    "def split_img_label(data_train,data_test,folder_train,folder_test):\n",
    "    try:\n",
    "        os.mkdir(folder_train)\n",
    "        os.mkdir(folder_test)\n",
    "    except Exception as e:\n",
    "        print(\"already exist folder \" + folder_train + \" \" + folder_train + \" delete it!!\")\n",
    "        return\n",
    "    \n",
    "    train_ind=list(data_train.index)\n",
    "    test_ind=list(data_test.index)\n",
    "\n",
    "\n",
    "    print(len(test_ind))\n",
    "    # Train folder\n",
    "    for i in range(len(train_ind)):    \n",
    "        os.system('cp ' + data_train[train_ind[i]]+' ./'+ folder_train + '/' + data_train[train_ind[i]].split('/')[3])\n",
    "        os.system('cp ' + './labels/train/' + data_train[train_ind[i]].split('/')[3].split('.jpg')[0]+'.txt'+'  ./'+ folder_train + '/'  +data_train[train_ind[i]].split('/')[3].split('.jpg')[0]+'.txt')\n",
    "    \n",
    "\n",
    "    # Test folder\n",
    "    for i in range(len(test_ind)):\n",
    "        os.system('cp '+data_test[test_ind[i]]+' ./'+ folder_test + '/'  +data_test[test_ind[i]].split('/')[3])\n",
    "        os.system('cp '+'./labels/train/' + data_test[test_ind[i]].split('/')[3].split('.jpg')[0]+'.txt'+'  ./'+ folder_test + '/'  +data_test[test_ind[i]].split('/')[3].split('.jpg')[0]+'.txt')"
   ]
  },
  {
   "cell_type": "code",
   "execution_count": null,
   "metadata": {},
   "outputs": [],
   "source": [
    "img_PATH = './images/train/'\n",
    "txt_PATH = './labels/train/'\n",
    " \n",
    "list_img=[img for img in os.listdir(img_PATH) if img.endswith('.jpg')==True]\n",
    "list_txt=[img for img in os.listdir(txt_PATH) if img.endswith('.txt')==True]\n",
    "\n",
    "path_img=[]\n",
    "\n",
    "for i in range (len(list_img)):\n",
    "    path_img.append(img_PATH+list_img[i])\n",
    "    \n",
    "df=pd.DataFrame(path_img)\n",
    "\n",
    "# split \n",
    "data_train, data_test, labels_train, labels_test = train_test_split(df[0], df.index, test_size=0.20, random_state=42)\n",
    "\n",
    "# Function split \n",
    "split_img_label(data_train,data_test,\"split_train\",\"split_vaild\")"
   ]
  }
 ],
 "metadata": {
  "interpreter": {
   "hash": "d4d1e4263499bec80672ea0156c357c1ee493ec2b1c70f0acce89fc37c4a6abe"
  },
  "kernelspec": {
   "display_name": "Python 3.8.12 ('base')",
   "language": "python",
   "name": "python3"
  },
  "language_info": {
   "codemirror_mode": {
    "name": "ipython",
    "version": 3
   },
   "file_extension": ".py",
   "mimetype": "text/x-python",
   "name": "python",
   "nbconvert_exporter": "python",
   "pygments_lexer": "ipython3",
   "version": "3.9.7"
  },
  "orig_nbformat": 4
 },
 "nbformat": 4,
 "nbformat_minor": 2
}
