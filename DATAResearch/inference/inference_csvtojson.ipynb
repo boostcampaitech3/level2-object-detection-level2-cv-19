{
 "cells": [
  {
   "cell_type": "code",
   "execution_count": 3,
   "metadata": {},
   "outputs": [],
   "source": [
    "import pandas as pd\n",
    "import json"
   ]
  },
  {
   "cell_type": "code",
   "execution_count": 16,
   "metadata": {},
   "outputs": [],
   "source": [
    "#settings!!#\n",
    "csv_file_name = \"submission.csv\"\n",
    "json_file_name = \"full_train_coco22.json\"\n",
    "dataset = \"train\""
   ]
  },
  {
   "cell_type": "code",
   "execution_count": 17,
   "metadata": {},
   "outputs": [],
   "source": [
    "pred_df = pd.read_csv(csv_file_name)"
   ]
  },
  {
   "cell_type": "code",
   "execution_count": 18,
   "metadata": {},
   "outputs": [],
   "source": [
    "dic = {\n",
    "    \"info\": {},\n",
    "\t\"licenses\": [],\n",
    "\t\"images\": [],               # 이미지 list\n",
    "\t\"categories\": [],           # class 종류들의 list\n",
    "\t\"annotations\": []           # annotation list\n",
    "}\n",
    "\n",
    "def setdict():\n",
    "    dic[\"info\"] = {\n",
    "        \"year\": 2021,\n",
    "        \"version\": \"1.0\",\n",
    "        \"description\": \"Recycle Trash\",\n",
    "        \"contributor\": \"Upstage\",\n",
    "        \"url\": None,\n",
    "        \"date_created\": \"2021-02-02 01:10:00\"\n",
    "    }\n",
    "    dic[\"licenses\"] = [\n",
    "        {\n",
    "        \"id\": 0,\n",
    "        \"name\": \"CC BY 4.0\",\n",
    "        \"url\": \"https://creativecommons.org/licenses/by/4.0/deed.ast\"\n",
    "        }\n",
    "    ]\n",
    "    dic[\"categories\"] = [\n",
    "        {\n",
    "        \"id\": 0,\n",
    "        \"name\": \"General trash\",\n",
    "        \"supercategory\": \"General trash\"\n",
    "        },\n",
    "        {\n",
    "        \"id\": 1,\n",
    "        \"name\": \"Paper\",\n",
    "        \"supercategory\": \"Paper\"\n",
    "        },\n",
    "        {\n",
    "        \"id\": 2,\n",
    "        \"name\": \"Paper pack\",\n",
    "        \"supercategory\": \"Paper pack\"\n",
    "        },\n",
    "        {\n",
    "        \"id\": 3,\n",
    "        \"name\": \"Metal\",\n",
    "        \"supercategory\": \"Metal\"\n",
    "        },\n",
    "        {\n",
    "        \"id\": 4,\n",
    "        \"name\": \"Glass\",\n",
    "        \"supercategory\": \"Glass\"\n",
    "        },\n",
    "        {\n",
    "        \"id\": 5,\n",
    "        \"name\": \"Plastic\",\n",
    "        \"supercategory\": \"Plastic\"\n",
    "        },\n",
    "        {\n",
    "        \"id\": 6,\n",
    "        \"name\": \"Styrofoam\",\n",
    "        \"supercategory\": \"Styrofoam\"\n",
    "        },\n",
    "        {\n",
    "        \"id\": 7,\n",
    "        \"name\": \"Plastic bag\",\n",
    "        \"supercategory\": \"Plastic bag\"\n",
    "        },\n",
    "        {\n",
    "        \"id\": 8,\n",
    "        \"name\": \"Battery\",\n",
    "        \"supercategory\": \"Battery\"\n",
    "        },\n",
    "        {\n",
    "        \"id\": 9,\n",
    "        \"name\": \"Clothing\",\n",
    "        \"supercategory\": \"Clothing\"\n",
    "        }\n",
    "    ]"
   ]
  },
  {
   "cell_type": "code",
   "execution_count": 19,
   "metadata": {},
   "outputs": [
    {
     "data": {
      "text/plain": [
       "4883"
      ]
     },
     "execution_count": 19,
     "metadata": {},
     "output_type": "execute_result"
    }
   ],
   "source": [
    "len(pred_df['image_id'].values.tolist())"
   ]
  },
  {
   "cell_type": "code",
   "execution_count": null,
   "metadata": {},
   "outputs": [],
   "source": [
    "pred_df['PredictionString'].values.tolist()"
   ]
  },
  {
   "cell_type": "code",
   "execution_count": 20,
   "metadata": {},
   "outputs": [],
   "source": [
    "setdict()\n",
    "\n",
    "file_names = pred_df['image_id'].values.tolist()\n",
    "bboxes = pred_df['PredictionString'].values.tolist()\n",
    "\n",
    "for f in file_names:\n",
    "    if(dataset == \"test\"):\n",
    "        dic[\"images\"].append({\n",
    "            \"width\": 1024,\n",
    "            \"height\": 1024,\n",
    "            \"file_name\": f,\n",
    "            \"license\": 0,\n",
    "            \"flickr_url\": None,\n",
    "            \"coco_url\": None,\n",
    "            \"id\": int(f[5:9])\n",
    "        })\n",
    "    else:\n",
    "        dic[\"images\"].append({\n",
    "            \"width\": 1024,\n",
    "            \"height\": 1024,\n",
    "            \"file_name\": f,\n",
    "            \"license\": 0,\n",
    "            \"flickr_url\": None,\n",
    "            \"coco_url\": None,\n",
    "            \"id\": int(f[6:10])\n",
    "        })\n"
   ]
  },
  {
   "cell_type": "code",
   "execution_count": 21,
   "metadata": {},
   "outputs": [],
   "source": [
    "box_id = 0\n",
    "for img_idx,box in enumerate(bboxes):\n",
    "    lst = []\n",
    "    if type(box) == float:\n",
    "        continue\n",
    "    for i,b in enumerate(box.split(\" \")):\n",
    "        if i%6 == 0 and i != 0:\n",
    "            dic[\"annotations\"].append({\n",
    "                \"image_id\": img_idx,          # 어느 이미지에 있는가?\n",
    "                \"category_id\": int(lst[0]),   # 이미지의 종류\n",
    "                \"score\": float(lst[1]),\n",
    "                \"area\": (float(lst[4]) - float(lst[2])) * (float(lst[5]) - float(lst[3])),\n",
    "                \"bbox\": [                     # 박스의 좌표\n",
    "                    float(lst[2]),\n",
    "                    float(lst[3]),\n",
    "                    float(lst[4]) - float(lst[2]),\n",
    "                    float(lst[5]) - float(lst[3])\n",
    "                ],\n",
    "                \"iscrowd\": 0,            # ??\n",
    "                \"id\": box_id             # 박스의 ID: 1,2,3, ...\n",
    "            })\n",
    "            lst = []\n",
    "            box_id += 1\n",
    "        lst.append(b)\n",
    "\n",
    "with open(json_file_name,'w') as f:\n",
    "    json.dump(dic,f)"
   ]
  },
  {
   "cell_type": "code",
   "execution_count": null,
   "metadata": {},
   "outputs": [],
   "source": []
  }
 ],
 "metadata": {
  "interpreter": {
   "hash": "d4d1e4263499bec80672ea0156c357c1ee493ec2b1c70f0acce89fc37c4a6abe"
  },
  "kernelspec": {
   "display_name": "Python 3.8.12 ('base')",
   "language": "python",
   "name": "python3"
  },
  "language_info": {
   "codemirror_mode": {
    "name": "ipython",
    "version": 3
   },
   "file_extension": ".py",
   "mimetype": "text/x-python",
   "name": "python",
   "nbconvert_exporter": "python",
   "pygments_lexer": "ipython3",
   "version": "3.8.12"
  },
  "orig_nbformat": 4
 },
 "nbformat": 4,
 "nbformat_minor": 2
}
