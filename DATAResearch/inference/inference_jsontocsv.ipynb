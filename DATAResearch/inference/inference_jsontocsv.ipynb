{
 "cells": [
  {
   "cell_type": "code",
   "execution_count": 52,
   "metadata": {},
   "outputs": [],
   "source": [
    "import pandas as pd\n",
    "import numpy as np\n",
    "import json\n",
    "from tqdm import tqdm\n",
    "from pycocotools.coco import COCO"
   ]
  },
  {
   "cell_type": "code",
   "execution_count": 1,
   "metadata": {},
   "outputs": [],
   "source": [
    "import pandas as pd"
   ]
  },
  {
   "cell_type": "code",
   "execution_count": 61,
   "metadata": {},
   "outputs": [],
   "source": [
    "data = pd.read_json(\"./best_predictions.json\")"
   ]
  },
  {
   "cell_type": "markdown",
   "metadata": {},
   "source": [
    "image_id                                        0\n",
    "\n",
    "category_id                                     7\n",
    "\n",
    "bbox           [607.478, 518.568, 346.8, 499.062]\n",
    "\n",
    "score                                     0.97135\n",
    "\n",
    "test/0015.jpg"
   ]
  },
  {
   "cell_type": "code",
   "execution_count": 62,
   "metadata": {},
   "outputs": [
    {
     "name": "stderr",
     "output_type": "stream",
     "text": [
      "100%|██████████| 4869/4869 [00:13<00:00, 373.23it/s]\n"
     ]
    }
   ],
   "source": [
    "prediction_strings = []\n",
    "file_names = []\n",
    "for i in tqdm(data.groupby(by=[\"image_id\"])):\n",
    "    image_id = i[0]\n",
    "    prediction_string = \"\"\n",
    "    for j in i[1].iterrows():\n",
    "        blk = [j[1].category_id, round(j[1].score,15), j[1].bbox[0], j[1].bbox[1], j[1].bbox[0] + j[1].bbox[2], j[1].bbox[1] + j[1].bbox[3]]\n",
    "        blk = list(map(lambda x : str(x) + \" \" ,blk))\n",
    "        for i in blk:\n",
    "            prediction_string += i\n",
    "        #print(blk)\n",
    "        #print(j[1]) \n",
    "    file_name = \"test/\" + str(image_id + 10000)[1:] + \".jpg\"\n",
    "\n",
    "    prediction_strings.append(prediction_string)\n",
    "    file_names.append(file_name)\n"
   ]
  },
  {
   "cell_type": "code",
   "execution_count": 63,
   "metadata": {},
   "outputs": [
    {
     "data": {
      "text/html": [
       "<div>\n",
       "<style scoped>\n",
       "    .dataframe tbody tr th:only-of-type {\n",
       "        vertical-align: middle;\n",
       "    }\n",
       "\n",
       "    .dataframe tbody tr th {\n",
       "        vertical-align: top;\n",
       "    }\n",
       "\n",
       "    .dataframe thead th {\n",
       "        text-align: right;\n",
       "    }\n",
       "</style>\n",
       "<table border=\"1\" class=\"dataframe\">\n",
       "  <thead>\n",
       "    <tr style=\"text-align: right;\">\n",
       "      <th></th>\n",
       "      <th>PredictionString</th>\n",
       "      <th>image_id</th>\n",
       "    </tr>\n",
       "  </thead>\n",
       "  <tbody>\n",
       "    <tr>\n",
       "      <th>0</th>\n",
       "      <td>7 0.97135 607.478 518.568 954.278 1017.63 7 0....</td>\n",
       "      <td>test/0000.jpg</td>\n",
       "    </tr>\n",
       "    <tr>\n",
       "      <th>1</th>\n",
       "      <td>5 0.91616 351.18 244.334 754.883 691.835 5 0.3...</td>\n",
       "      <td>test/0001.jpg</td>\n",
       "    </tr>\n",
       "    <tr>\n",
       "      <th>2</th>\n",
       "      <td>1 0.93835 72.571 271.862 426.84900000000005 60...</td>\n",
       "      <td>test/0002.jpg</td>\n",
       "    </tr>\n",
       "    <tr>\n",
       "      <th>3</th>\n",
       "      <td>9 0.88561 0.0 438.131 183.741 860.643 9 0.7747...</td>\n",
       "      <td>test/0003.jpg</td>\n",
       "    </tr>\n",
       "    <tr>\n",
       "      <th>4</th>\n",
       "      <td>0 0.44175 233.943 265.214 867.5459999999999 76...</td>\n",
       "      <td>test/0004.jpg</td>\n",
       "    </tr>\n",
       "  </tbody>\n",
       "</table>\n",
       "</div>"
      ],
      "text/plain": [
       "                                    PredictionString       image_id\n",
       "0  7 0.97135 607.478 518.568 954.278 1017.63 7 0....  test/0000.jpg\n",
       "1  5 0.91616 351.18 244.334 754.883 691.835 5 0.3...  test/0001.jpg\n",
       "2  1 0.93835 72.571 271.862 426.84900000000005 60...  test/0002.jpg\n",
       "3  9 0.88561 0.0 438.131 183.741 860.643 9 0.7747...  test/0003.jpg\n",
       "4  0 0.44175 233.943 265.214 867.5459999999999 76...  test/0004.jpg"
      ]
     },
     "execution_count": 63,
     "metadata": {},
     "output_type": "execute_result"
    }
   ],
   "source": [
    "\n",
    "submission = pd.DataFrame()\n",
    "submission['PredictionString'] = prediction_strings\n",
    "submission['image_id'] = file_names\n",
    "submission.to_csv('./submission.csv', index=None)\n",
    "submission.head()"
   ]
  },
  {
   "cell_type": "code",
   "execution_count": null,
   "metadata": {},
   "outputs": [],
   "source": []
  }
 ],
 "metadata": {
  "interpreter": {
   "hash": "d4d1e4263499bec80672ea0156c357c1ee493ec2b1c70f0acce89fc37c4a6abe"
  },
  "kernelspec": {
   "display_name": "Python 3.8.12 ('base')",
   "language": "python",
   "name": "python3"
  },
  "language_info": {
   "codemirror_mode": {
    "name": "ipython",
    "version": 3
   },
   "file_extension": ".py",
   "mimetype": "text/x-python",
   "name": "python",
   "nbconvert_exporter": "python",
   "pygments_lexer": "ipython3",
   "version": "3.8.12"
  },
  "orig_nbformat": 4
 },
 "nbformat": 4,
 "nbformat_minor": 2
}
