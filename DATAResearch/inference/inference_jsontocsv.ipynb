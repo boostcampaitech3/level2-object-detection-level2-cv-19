{
 "cells": [
  {
   "cell_type": "code",
   "execution_count": 1,
   "metadata": {},
   "outputs": [],
   "source": [
    "import pandas as pd\n",
    "import numpy as np\n",
    "import json\n",
    "from tqdm import tqdm\n",
    "from pycocotools.coco import COCO"
   ]
  },
  {
   "cell_type": "code",
   "execution_count": 30,
   "metadata": {},
   "outputs": [],
   "source": [
    "data = pd.read_json(\"./best_f0_predictions.json\")\n",
    "confidence = 0.4"
   ]
  },
  {
   "cell_type": "markdown",
   "metadata": {},
   "source": [
    "image_id                                        0\n",
    "\n",
    "category_id                                     7\n",
    "\n",
    "bbox           [607.478, 518.568, 346.8, 499.062]\n",
    "\n",
    "score                                     0.97135\n",
    "\n",
    "test/0015.jpg"
   ]
  },
  {
   "cell_type": "code",
   "execution_count": 33,
   "metadata": {},
   "outputs": [
    {
     "name": "stderr",
     "output_type": "stream",
     "text": [
      "100%|██████████| 4871/4871 [00:26<00:00, 180.97it/s]\n"
     ]
    }
   ],
   "source": [
    "prediction_strings = []\n",
    "file_names = []\n",
    "for i in tqdm(data.groupby(by=[\"image_id\"])):\n",
    "    image_id = i[0]\n",
    "    prediction_string = \"\"\n",
    "    for j in i[1].iterrows():\n",
    "        if j[1].score < confidence:\n",
    "            continue\n",
    "        blk = [j[1].category_id, round(j[1].score,15), j[1].bbox[0], j[1].bbox[1], j[1].bbox[0] + j[1].bbox[2], j[1].bbox[1] + j[1].bbox[3]]\n",
    "        blk = list(map(lambda x : str(x) + \" \" ,blk))\n",
    "        for i in blk:\n",
    "            prediction_string += i\n",
    "        #print(blk)\n",
    "        #print(j[1]) \n",
    "    file_name = \"test/\" + str(image_id + 10000)[1:] + \".jpg\"\n",
    "\n",
    "    prediction_strings.append(prediction_string)\n",
    "    file_names.append(file_name)\n"
   ]
  },
  {
   "cell_type": "code",
   "execution_count": 34,
   "metadata": {},
   "outputs": [
    {
     "data": {
      "text/html": [
       "<div>\n",
       "<style scoped>\n",
       "    .dataframe tbody tr th:only-of-type {\n",
       "        vertical-align: middle;\n",
       "    }\n",
       "\n",
       "    .dataframe tbody tr th {\n",
       "        vertical-align: top;\n",
       "    }\n",
       "\n",
       "    .dataframe thead th {\n",
       "        text-align: right;\n",
       "    }\n",
       "</style>\n",
       "<table border=\"1\" class=\"dataframe\">\n",
       "  <thead>\n",
       "    <tr style=\"text-align: right;\">\n",
       "      <th></th>\n",
       "      <th>PredictionString</th>\n",
       "      <th>image_id</th>\n",
       "    </tr>\n",
       "  </thead>\n",
       "  <tbody>\n",
       "    <tr>\n",
       "      <th>0</th>\n",
       "      <td>7 0.98287 604.825 514.406 956.942 1023.5919999...</td>\n",
       "      <td>test/0000.jpg</td>\n",
       "    </tr>\n",
       "    <tr>\n",
       "      <th>1</th>\n",
       "      <td>5 0.98095 345.005 251.478 754.806 696.483 5 0....</td>\n",
       "      <td>test/0001.jpg</td>\n",
       "    </tr>\n",
       "    <tr>\n",
       "      <th>2</th>\n",
       "      <td>1 0.97 301.633 310.344 1019.517 748.543 1 0.96...</td>\n",
       "      <td>test/0002.jpg</td>\n",
       "    </tr>\n",
       "    <tr>\n",
       "      <th>3</th>\n",
       "      <td>9 0.97585 139.554 264.641 914.52 830.3 9 0.949...</td>\n",
       "      <td>test/0003.jpg</td>\n",
       "    </tr>\n",
       "    <tr>\n",
       "      <th>4</th>\n",
       "      <td>1 0.9523 187.535 253.625 872.747 774.303 7 0.9...</td>\n",
       "      <td>test/0004.jpg</td>\n",
       "    </tr>\n",
       "  </tbody>\n",
       "</table>\n",
       "</div>"
      ],
      "text/plain": [
       "                                    PredictionString       image_id\n",
       "0  7 0.98287 604.825 514.406 956.942 1023.5919999...  test/0000.jpg\n",
       "1  5 0.98095 345.005 251.478 754.806 696.483 5 0....  test/0001.jpg\n",
       "2  1 0.97 301.633 310.344 1019.517 748.543 1 0.96...  test/0002.jpg\n",
       "3  9 0.97585 139.554 264.641 914.52 830.3 9 0.949...  test/0003.jpg\n",
       "4  1 0.9523 187.535 253.625 872.747 774.303 7 0.9...  test/0004.jpg"
      ]
     },
     "execution_count": 34,
     "metadata": {},
     "output_type": "execute_result"
    }
   ],
   "source": [
    "\n",
    "submission = pd.DataFrame()\n",
    "submission['PredictionString'] = prediction_strings\n",
    "submission['image_id'] = file_names\n",
    "submission.to_csv('./submission.csv', index=None)\n",
    "submission.head()"
   ]
  },
  {
   "cell_type": "markdown",
   "metadata": {},
   "source": [
    "---\n",
    "## Confidence edit  \n",
    "### COCO json-> CSV\n",
    "에러 수정 중"
   ]
  },
  {
   "cell_type": "code",
   "execution_count": 27,
   "metadata": {},
   "outputs": [
    {
     "name": "stdout",
     "output_type": "stream",
     "text": [
      "loading annotations into memory...\n",
      "Done (t=5.21s)\n",
      "creating index...\n",
      "index created!\n"
     ]
    }
   ],
   "source": [
    "coco = COCO(\"./csv_to_json2.json\")\n",
    "confidence = 0.4"
   ]
  },
  {
   "cell_type": "code",
   "execution_count": 28,
   "metadata": {},
   "outputs": [
    {
     "name": "stderr",
     "output_type": "stream",
     "text": [
      "100%|██████████| 4871/4871 [00:00<00:00, 9063.42it/s]\n"
     ]
    }
   ],
   "source": [
    "file_names = []\n",
    "strings = []\n",
    "for image_id in tqdm(coco.getImgIds()):\n",
    "    image_info = coco.loadImgs(image_id)[0]\n",
    "    annotation_id = coco.getAnnIds(imgIds=image_info['id'])\n",
    "    annotation_info_list = coco.loadAnns(annotation_id)\n",
    "    string = \"\"\n",
    "    for ano in annotation_info_list:\n",
    "        if ano['score'] < confidence:\n",
    "            continue\n",
    "        blk = [ano['category_id'], ano['score'], ano['bbox'][0], ano['bbox'][1], ano['bbox'][2] + ano['bbox'][0], ano['bbox'][3] + ano['bbox'][1]]\n",
    "        blk = list(map(lambda x : str(x) + \" \" ,blk))\n",
    "        for i in blk:\n",
    "            string += i\n",
    "    \n",
    "    file_name = \"test/\" + image_info['file_name']\n",
    "    strings.append(string)\n",
    "    \n",
    "    file_names.append(file_name)"
   ]
  },
  {
   "cell_type": "code",
   "execution_count": 29,
   "metadata": {},
   "outputs": [
    {
     "data": {
      "text/html": [
       "<div>\n",
       "<style scoped>\n",
       "    .dataframe tbody tr th:only-of-type {\n",
       "        vertical-align: middle;\n",
       "    }\n",
       "\n",
       "    .dataframe tbody tr th {\n",
       "        vertical-align: top;\n",
       "    }\n",
       "\n",
       "    .dataframe thead th {\n",
       "        text-align: right;\n",
       "    }\n",
       "</style>\n",
       "<table border=\"1\" class=\"dataframe\">\n",
       "  <thead>\n",
       "    <tr style=\"text-align: right;\">\n",
       "      <th></th>\n",
       "      <th>PredictionString</th>\n",
       "      <th>image_id</th>\n",
       "    </tr>\n",
       "  </thead>\n",
       "  <tbody>\n",
       "    <tr>\n",
       "      <th>0</th>\n",
       "      <td>7 0.98287 604.825 514.406 956.942 1023.5919999...</td>\n",
       "      <td>test/test/0000.jpg</td>\n",
       "    </tr>\n",
       "    <tr>\n",
       "      <th>1</th>\n",
       "      <td>5 0.98095 345.005 251.478 754.806 696.483 5 0....</td>\n",
       "      <td>test/test/0001.jpg</td>\n",
       "    </tr>\n",
       "    <tr>\n",
       "      <th>2</th>\n",
       "      <td>1 0.97 301.633 310.344 1019.517 748.543 1 0.96...</td>\n",
       "      <td>test/test/0002.jpg</td>\n",
       "    </tr>\n",
       "    <tr>\n",
       "      <th>3</th>\n",
       "      <td>9 0.97585 139.554 264.641 914.52 830.3 9 0.949...</td>\n",
       "      <td>test/test/0003.jpg</td>\n",
       "    </tr>\n",
       "    <tr>\n",
       "      <th>4</th>\n",
       "      <td>1 0.9523 187.535 253.625 872.747 774.303 7 0.9...</td>\n",
       "      <td>test/test/0004.jpg</td>\n",
       "    </tr>\n",
       "  </tbody>\n",
       "</table>\n",
       "</div>"
      ],
      "text/plain": [
       "                                    PredictionString            image_id\n",
       "0  7 0.98287 604.825 514.406 956.942 1023.5919999...  test/test/0000.jpg\n",
       "1  5 0.98095 345.005 251.478 754.806 696.483 5 0....  test/test/0001.jpg\n",
       "2  1 0.97 301.633 310.344 1019.517 748.543 1 0.96...  test/test/0002.jpg\n",
       "3  9 0.97585 139.554 264.641 914.52 830.3 9 0.949...  test/test/0003.jpg\n",
       "4  1 0.9523 187.535 253.625 872.747 774.303 7 0.9...  test/test/0004.jpg"
      ]
     },
     "execution_count": 29,
     "metadata": {},
     "output_type": "execute_result"
    }
   ],
   "source": [
    "submission = pd.DataFrame()\n",
    "submission['PredictionString'] = strings\n",
    "submission['image_id'] = file_names\n",
    "submission.to_csv('./submissionCOCO.csv', index=None)\n",
    "submission.head()"
   ]
  },
  {
   "cell_type": "code",
   "execution_count": null,
   "metadata": {},
   "outputs": [],
   "source": []
  }
 ],
 "metadata": {
  "interpreter": {
   "hash": "d4d1e4263499bec80672ea0156c357c1ee493ec2b1c70f0acce89fc37c4a6abe"
  },
  "kernelspec": {
   "display_name": "Python 3.8.12 ('base')",
   "language": "python",
   "name": "python3"
  },
  "language_info": {
   "codemirror_mode": {
    "name": "ipython",
    "version": 3
   },
   "file_extension": ".py",
   "mimetype": "text/x-python",
   "name": "python",
   "nbconvert_exporter": "python",
   "pygments_lexer": "ipython3",
   "version": "3.8.12"
  },
  "orig_nbformat": 4
 },
 "nbformat": 4,
 "nbformat_minor": 2
}
