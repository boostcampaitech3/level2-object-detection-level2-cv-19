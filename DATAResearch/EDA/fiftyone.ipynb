{
 "cells": [
  {
   "cell_type": "code",
   "execution_count": 1,
   "metadata": {},
   "outputs": [],
   "source": [
    "import fiftyone as fo\n",
    "import os"
   ]
  },
  {
   "cell_type": "markdown",
   "metadata": {},
   "source": [
    "---\n",
    "Model Pred."
   ]
  },
  {
   "cell_type": "code",
   "execution_count": 27,
   "metadata": {},
   "outputs": [
    {
     "name": "stdout",
     "output_type": "stream",
     "text": [
      " 100% |█████████████████████| 0/0 [545.7us elapsed, ? remaining, ? samples/s] \n"
     ]
    }
   ],
   "source": [
    "dataset = fo.Dataset.from_dir(\n",
    "    dataset_type=fo.types.COCODetectionDataset,\n",
    "    data_path=\"/opt/ml/baseline/level2-object-detection-level2-cv-19/dataset/images\",\n",
    "    labels_path=\"./csv_to_json2.json\",\n",
    ")"
   ]
  },
  {
   "cell_type": "code",
   "execution_count": 33,
   "metadata": {},
   "outputs": [
    {
     "name": "stdout",
     "output_type": "stream",
     "text": [
      " 100% |███████████████| 4883/4883 [23.6s elapsed, 0s remaining, 229.4 samples/s]      \n"
     ]
    }
   ],
   "source": [
    "dataset2 = fo.Dataset.from_dir(\n",
    "    dataset_type=fo.types.COCODetectionDataset,\n",
    "    data_path=\"/opt/ml/baseline/level2-object-detection-level2-cv-19/dataset/images\",\n",
    "    labels_path=\"../inference/fullset_train_coco22.json\",\n",
    ")"
   ]
  },
  {
   "cell_type": "markdown",
   "metadata": {},
   "source": [
    "---\n",
    "Train GT "
   ]
  },
  {
   "cell_type": "code",
   "execution_count": 34,
   "metadata": {},
   "outputs": [
    {
     "name": "stdout",
     "output_type": "stream",
     "text": [
      " 100% |███████████████| 4883/4883 [15.9s elapsed, 0s remaining, 336.8 samples/s]      \n"
     ]
    }
   ],
   "source": [
    "datasetgt = fo.Dataset.from_dir(\n",
    "    dataset_type=fo.types.COCODetectionDataset,\n",
    "    data_path=\"/opt/ml/baseline/level2-object-detection-level2-cv-19/dataset/images\",\n",
    "    labels_path=\"/opt/ml/baseline/level2-object-detection-level2-cv-19/dataset/train.json\",\n",
    ")"
   ]
  },
  {
   "cell_type": "markdown",
   "metadata": {},
   "source": [
    "---\n",
    "ensemble"
   ]
  },
  {
   "cell_type": "code",
   "execution_count": 35,
   "metadata": {},
   "outputs": [
    {
     "name": "stdout",
     "output_type": "stream",
     "text": [
      "Indexing dataset...\n",
      " 100% |███████████████| 4883/4883 [8.0s elapsed, 0s remaining, 666.5 samples/s]       \n",
      "Merging samples...\n",
      " 100% |███████████████| 4883/4883 [50.2s elapsed, 0s remaining, 98.6 samples/s]       \n"
     ]
    }
   ],
   "source": [
    "# Create a view containing only the predictions\n",
    "predictions_view = dataset2.select_fields(\"ground_truth\").clone()\n",
    "\n",
    "# # Clone an existing field\n",
    "# dataset.clone_sample_field(\"predictions\", \"also_predictions\")\n",
    "# print(\"also_predictions\" in dataset.get_field_schema())  # True\n",
    "\n",
    "# Rename a field\n",
    "predictions_view.rename_sample_field(\"ground_truth\", \"predictions\")\n",
    "\n",
    "# Merge the predictions\n",
    "datasetgt.merge_samples(predictions_view, \\\n",
    "            key_fcn=lambda sample: os.path.basename(sample.filepath))"
   ]
  },
  {
   "cell_type": "code",
   "execution_count": 36,
   "metadata": {},
   "outputs": [
    {
     "data": {
      "text/html": [
       "\n",
       "        <iframe\n",
       "            width=\"100%\"\n",
       "            height=\"800\"\n",
       "            src=\"http://0.0.0.0:30007/?notebook=true&handleId=2a34fda2-7a1b-4ba6-8879-d903d45c9e30\"\n",
       "            frameborder=\"0\"\n",
       "            allowfullscreen\n",
       "            \n",
       "        ></iframe>\n",
       "        "
      ],
      "text/plain": [
       "<IPython.lib.display.IFrame at 0x7fb3e7d3d0a0>"
      ]
     },
     "metadata": {},
     "output_type": "display_data"
    }
   ],
   "source": [
    "session = fo.launch_app(dataset=datasetgt , port=30007, address=\"0.0.0.0\")"
   ]
  },
  {
   "cell_type": "code",
   "execution_count": null,
   "metadata": {},
   "outputs": [],
   "source": []
  }
 ],
 "metadata": {
  "interpreter": {
   "hash": "d4d1e4263499bec80672ea0156c357c1ee493ec2b1c70f0acce89fc37c4a6abe"
  },
  "kernelspec": {
   "display_name": "Python 3.8.12 ('base')",
   "language": "python",
   "name": "python3"
  },
  "language_info": {
   "codemirror_mode": {
    "name": "ipython",
    "version": 3
   },
   "file_extension": ".py",
   "mimetype": "text/x-python",
   "name": "python",
   "nbconvert_exporter": "python",
   "pygments_lexer": "ipython3",
   "version": "3.8.12"
  },
  "orig_nbformat": 4
 },
 "nbformat": 4,
 "nbformat_minor": 2
}
