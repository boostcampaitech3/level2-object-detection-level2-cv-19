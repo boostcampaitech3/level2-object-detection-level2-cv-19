{
 "cells": [
  {
   "cell_type": "markdown",
   "metadata": {},
   "source": [
    "## single"
   ]
  },
  {
   "cell_type": "code",
   "execution_count": null,
   "metadata": {},
   "outputs": [],
   "source": [
    "!python train.py --batch 16 --epochs 10 --data trash.yaml --weights yolov5s.pt --cache"
   ]
  },
  {
   "cell_type": "markdown",
   "metadata": {},
   "source": [
    "## Sweep"
   ]
  },
  {
   "cell_type": "code",
   "execution_count": 1,
   "metadata": {},
   "outputs": [
    {
     "name": "stdout",
     "output_type": "stream",
     "text": [
      "\u001b[34m\u001b[1mwandb\u001b[0m: Currently logged in as: \u001b[33mnext_level\u001b[0m (use `wandb login --relogin` to force relogin)\n",
      "\u001b[34m\u001b[1mtrain: \u001b[0mweights=yolov5s.pt, cfg=, data=trash.yaml, hyp=hyp.scratch-high.yaml, epochs=300, batch_size=64, imgsz=640, rect=False, resume=False, nosave=False, noval=False, noautoanchor=False, evolve=None, bucket=, cache=ram, image_weights=False, device=, multi_scale=False, single_cls=False, optimizer=SGD, sync_bn=False, workers=8, project=runs/train, name=bt64_yolov5s_scratch-high, exist_ok=False, quad=False, cos_lr=False, label_smoothing=0.0, patience=100, freeze=[0], save_period=-1, local_rank=-1, entity=None, upload_dataset=False, bbox_interval=-1, artifact_alias=latest\n",
      "\u001b[34m\u001b[1mgithub: \u001b[0mskipping check (not a git repository), for updates see https://github.com/ultralytics/yolov5\n",
      "YOLOv5 🚀 72f0b96 torch 1.11.0 CUDA:0 (Tesla V100-PCIE-32GB, 32510MiB)\n",
      "\n",
      "\u001b[34m\u001b[1mhyperparameters: \u001b[0mlr0=0.01, lrf=0.1, momentum=0.937, weight_decay=0.0005, warmup_epochs=3.0, warmup_momentum=0.8, warmup_bias_lr=0.1, box=0.05, cls=0.3, cls_pw=1.0, obj=0.7, obj_pw=1.0, iou_t=0.2, anchor_t=4.0, fl_gamma=0.0, hsv_h=0.015, hsv_s=0.7, hsv_v=0.4, degrees=0.0, translate=0.1, scale=0.9, shear=0.0, perspective=0.0, flipud=0.0, fliplr=0.5, mosaic=1.0, mixup=0.1, copy_paste=0.1\n",
      "\u001b[34m\u001b[1mTensorBoard: \u001b[0mStart with 'tensorboard --logdir runs/train', view at http://localhost:6006/\n",
      "\u001b[34m\u001b[1mwandb\u001b[0m: Tracking run with wandb version 0.12.11\n",
      "\u001b[34m\u001b[1mwandb\u001b[0m: Run data is saved locally in \u001b[35m\u001b[1m/opt/ml/baseline/level2-object-detection-level2-cv-19/yolov5/wandb/run-20220326_154643-3uaoc84x\u001b[0m\n",
      "\u001b[34m\u001b[1mwandb\u001b[0m: Run \u001b[1m`wandb offline`\u001b[0m to turn off syncing.\n",
      "\u001b[34m\u001b[1mwandb\u001b[0m: Syncing run \u001b[33mbt64_yolov5s_scratch-high\u001b[0m\n",
      "\u001b[34m\u001b[1mwandb\u001b[0m: ⭐️ View project at \u001b[34m\u001b[4mhttps://wandb.ai/next_level/YOLOv5\u001b[0m\n",
      "\u001b[34m\u001b[1mwandb\u001b[0m: 🚀 View run at \u001b[34m\u001b[4mhttps://wandb.ai/next_level/YOLOv5/runs/3uaoc84x\u001b[0m\n",
      "Overriding model.yaml nc=80 with nc=10\n",
      "\n",
      "                 from  n    params  module                                  arguments                     \n",
      "  0                -1  1      3520  models.common.Conv                      [3, 32, 6, 2, 2]              \n",
      "  1                -1  1     18560  models.common.Conv                      [32, 64, 3, 2]                \n",
      "  2                -1  1     18816  models.common.C3                        [64, 64, 1]                   \n",
      "  3                -1  1     73984  models.common.Conv                      [64, 128, 3, 2]               \n",
      "  4                -1  2    115712  models.common.C3                        [128, 128, 2]                 \n",
      "  5                -1  1    295424  models.common.Conv                      [128, 256, 3, 2]              \n",
      "  6                -1  3    625152  models.common.C3                        [256, 256, 3]                 \n",
      "  7                -1  1   1180672  models.common.Conv                      [256, 512, 3, 2]              \n",
      "  8                -1  1   1182720  models.common.C3                        [512, 512, 1]                 \n",
      "  9                -1  1    656896  models.common.SPPF                      [512, 512, 5]                 \n",
      " 10                -1  1    131584  models.common.Conv                      [512, 256, 1, 1]              \n",
      " 11                -1  1         0  torch.nn.modules.upsampling.Upsample    [None, 2, 'nearest']          \n",
      " 12           [-1, 6]  1         0  models.common.Concat                    [1]                           \n",
      " 13                -1  1    361984  models.common.C3                        [512, 256, 1, False]          \n",
      " 14                -1  1     33024  models.common.Conv                      [256, 128, 1, 1]              \n",
      " 15                -1  1         0  torch.nn.modules.upsampling.Upsample    [None, 2, 'nearest']          \n",
      " 16           [-1, 4]  1         0  models.common.Concat                    [1]                           \n",
      " 17                -1  1     90880  models.common.C3                        [256, 128, 1, False]          \n",
      " 18                -1  1    147712  models.common.Conv                      [128, 128, 3, 2]              \n",
      " 19          [-1, 14]  1         0  models.common.Concat                    [1]                           \n",
      " 20                -1  1    296448  models.common.C3                        [256, 256, 1, False]          \n",
      " 21                -1  1    590336  models.common.Conv                      [256, 256, 3, 2]              \n",
      " 22          [-1, 10]  1         0  models.common.Concat                    [1]                           \n",
      " 23                -1  1   1182720  models.common.C3                        [512, 512, 1, False]          \n",
      " 24      [17, 20, 23]  1     40455  models.yolo.Detect                      [10, [[10, 13, 16, 30, 33, 23], [30, 61, 62, 45, 59, 119], [116, 90, 156, 198, 373, 326]], [128, 256, 512]]\n",
      "Model summary: 270 layers, 7046599 parameters, 7046599 gradients, 15.9 GFLOPs\n",
      "\n",
      "Transferred 343/349 items from yolov5s.pt\n",
      "Scaled weight_decay = 0.0005\n",
      "\u001b[34m\u001b[1moptimizer:\u001b[0m SGD with parameter groups 57 weight (no decay), 60 weight, 60 bias\n",
      "\u001b[34m\u001b[1malbumentations: \u001b[0mBlur(always_apply=False, p=0.01, blur_limit=(3, 7)), MedianBlur(always_apply=False, p=0.01, blur_limit=(3, 7)), ToGray(always_apply=False, p=0.01), CLAHE(always_apply=False, p=0.01, clip_limit=(1, 4.0), tile_grid_size=(8, 8))\n",
      "\u001b[34m\u001b[1mtrain: \u001b[0mScanning '/opt/ml/baseline/level2-object-detection-level2-cv-19/dataset/s\u001b[0m\n",
      "\u001b[34m\u001b[1mtrain: \u001b[0mWARNING: /opt/ml/baseline/level2-object-detection-level2-cv-19/dataset/split_train/4041.jpg: 1 duplicate labels removed\n",
      "\u001b[34m\u001b[1mtrain: \u001b[0mCaching images (4.8GB ram): 100%|██████████| 3906/3906 [00:12<00:00, 316.\u001b[0m\n",
      "\u001b[34m\u001b[1mval: \u001b[0mScanning '/opt/ml/baseline/level2-object-detection-level2-cv-19/dataset/spl\u001b[0m\n",
      "\u001b[34m\u001b[1mval: \u001b[0mCaching images (1.2GB ram): 100%|██████████| 977/977 [00:07<00:00, 127.29it\u001b[0m\n",
      "Plotting labels to runs/train/bt64_yolov5s_scratch-high/labels.jpg... \n",
      "\n",
      "\u001b[34m\u001b[1mAutoAnchor: \u001b[0m4.47 anchors/target, 0.999 Best Possible Recall (BPR). Current anchors are a good fit to dataset ✅\n",
      "Image sizes 640 train, 640 val\n",
      "Using 8 dataloader workers\n",
      "Logging results to \u001b[1mruns/train/bt64_yolov5s_scratch-high\u001b[0m\n",
      "Starting training for 300 epochs...\n",
      "\n",
      "     Epoch   gpu_mem       box       obj       cls    labels  img_size\n",
      "     0/299     12.8G    0.0921   0.04405   0.03675        45       640: 100%|███\n",
      "               Class     Images     Labels          P          R     mAP@.5 mAP@\n",
      "                 all        977       4642      0.158      0.166     0.0454     0.0105\n",
      "\n",
      "     Epoch   gpu_mem       box       obj       cls    labels  img_size\n",
      "     1/299     15.5G   0.07144   0.03882    0.0325       538       640:  53%|███^C\n",
      "     1/299     15.5G   0.07144   0.03882    0.0325       538       640:  53%|███\n",
      "Traceback (most recent call last):\n",
      "  File \"train.py\", line 643, in <module>\n",
      "    main(opt)\n",
      "  File \"train.py\", line 539, in main\n",
      "    train(opt.hyp, opt, device, callbacks)\n",
      "  File \"train.py\", line 342, in train\n",
      "    scaler.step(optimizer)  # optimizer.step\n",
      "  File \"/opt/conda/lib/python3.8/site-packages/torch/cuda/amp/grad_scaler.py\", line 338, in step\n",
      "    retval = self._maybe_opt_step(optimizer, optimizer_state, *args, **kwargs)\n",
      "  File \"/opt/conda/lib/python3.8/site-packages/torch/cuda/amp/grad_scaler.py\", line 284, in _maybe_opt_step\n",
      "    if not sum(v.item() for v in optimizer_state[\"found_inf_per_device\"].values()):\n",
      "  File \"/opt/conda/lib/python3.8/site-packages/torch/cuda/amp/grad_scaler.py\", line 284, in <genexpr>\n",
      "    if not sum(v.item() for v in optimizer_state[\"found_inf_per_device\"].values()):\n",
      "KeyboardInterrupt\n",
      "\u001b[34m\u001b[1mwandb\u001b[0m: Currently logged in as: \u001b[33mnext_level\u001b[0m (use `wandb login --relogin` to force relogin)\n",
      "\u001b[34m\u001b[1mtrain: \u001b[0mweights=yolov5m.pt, cfg=, data=trash.yaml, hyp=hyp.scratch-high.yaml, epochs=300, batch_size=64, imgsz=640, rect=False, resume=False, nosave=False, noval=False, noautoanchor=False, evolve=None, bucket=, cache=ram, image_weights=False, device=, multi_scale=False, single_cls=False, optimizer=SGD, sync_bn=False, workers=8, project=runs/train, name=bt64_yolov5m_scratch-high, exist_ok=False, quad=False, cos_lr=False, label_smoothing=0.0, patience=100, freeze=[0], save_period=-1, local_rank=-1, entity=None, upload_dataset=False, bbox_interval=-1, artifact_alias=latest\n",
      "\u001b[34m\u001b[1mgithub: \u001b[0mskipping check (not a git repository), for updates see https://github.com/ultralytics/yolov5\n",
      "YOLOv5 🚀 72f0b96 torch 1.11.0 CUDA:0 (Tesla V100-PCIE-32GB, 32510MiB)\n",
      "\n",
      "\u001b[34m\u001b[1mhyperparameters: \u001b[0mlr0=0.01, lrf=0.1, momentum=0.937, weight_decay=0.0005, warmup_epochs=3.0, warmup_momentum=0.8, warmup_bias_lr=0.1, box=0.05, cls=0.3, cls_pw=1.0, obj=0.7, obj_pw=1.0, iou_t=0.2, anchor_t=4.0, fl_gamma=0.0, hsv_h=0.015, hsv_s=0.7, hsv_v=0.4, degrees=0.0, translate=0.1, scale=0.9, shear=0.0, perspective=0.0, flipud=0.0, fliplr=0.5, mosaic=1.0, mixup=0.1, copy_paste=0.1\n",
      "\u001b[34m\u001b[1mTensorBoard: \u001b[0mStart with 'tensorboard --logdir runs/train', view at http://localhost:6006/\n",
      "\u001b[34m\u001b[1mwandb\u001b[0m: Tracking run with wandb version 0.12.11\n",
      "\u001b[34m\u001b[1mwandb\u001b[0m: Run data is saved locally in \u001b[35m\u001b[1m/opt/ml/baseline/level2-object-detection-level2-cv-19/yolov5/wandb/run-20220326_154831-2klned46\u001b[0m\n",
      "\u001b[34m\u001b[1mwandb\u001b[0m: Run \u001b[1m`wandb offline`\u001b[0m to turn off syncing.\n",
      "\u001b[34m\u001b[1mwandb\u001b[0m: Syncing run \u001b[33mbt64_yolov5m_scratch-high\u001b[0m\n",
      "\u001b[34m\u001b[1mwandb\u001b[0m: ⭐️ View project at \u001b[34m\u001b[4mhttps://wandb.ai/next_level/YOLOv5\u001b[0m\n",
      "\u001b[34m\u001b[1mwandb\u001b[0m: 🚀 View run at \u001b[34m\u001b[4mhttps://wandb.ai/next_level/YOLOv5/runs/2klned46\u001b[0m\n",
      "Overriding model.yaml nc=80 with nc=10\n",
      "\n",
      "                 from  n    params  module                                  arguments                     \n",
      "  0                -1  1      5280  models.common.Conv                      [3, 48, 6, 2, 2]              \n",
      "  1                -1  1     41664  models.common.Conv                      [48, 96, 3, 2]                \n",
      "  2                -1  2     65280  models.common.C3                        [96, 96, 2]                   \n",
      "  3                -1  1    166272  models.common.Conv                      [96, 192, 3, 2]               \n",
      "  4                -1  4    444672  models.common.C3                        [192, 192, 4]                 \n",
      "  5                -1  1    664320  models.common.Conv                      [192, 384, 3, 2]              \n",
      "  6                -1  6   2512896  models.common.C3                        [384, 384, 6]                 \n",
      "  7                -1  1   2655744  models.common.Conv                      [384, 768, 3, 2]              \n",
      "  8                -1  2   4134912  models.common.C3                        [768, 768, 2]                 \n",
      "  9                -1  1   1476864  models.common.SPPF                      [768, 768, 5]                 \n",
      " 10                -1  1    295680  models.common.Conv                      [768, 384, 1, 1]              \n",
      " 11                -1  1         0  torch.nn.modules.upsampling.Upsample    [None, 2, 'nearest']          \n",
      " 12           [-1, 6]  1         0  models.common.Concat                    [1]                           \n",
      " 13                -1  2   1182720  models.common.C3                        [768, 384, 2, False]          \n",
      " 14                -1  1     74112  models.common.Conv                      [384, 192, 1, 1]              \n",
      " 15                -1  1         0  torch.nn.modules.upsampling.Upsample    [None, 2, 'nearest']          \n",
      " 16           [-1, 4]  1         0  models.common.Concat                    [1]                           \n",
      " 17                -1  2    296448  models.common.C3                        [384, 192, 2, False]          \n",
      " 18                -1  1    332160  models.common.Conv                      [192, 192, 3, 2]              \n",
      " 19          [-1, 14]  1         0  models.common.Concat                    [1]                           \n",
      " 20                -1  2   1035264  models.common.C3                        [384, 384, 2, False]          \n",
      " 21                -1  1   1327872  models.common.Conv                      [384, 384, 3, 2]              \n",
      " 22          [-1, 10]  1         0  models.common.Concat                    [1]                           \n",
      " 23                -1  2   4134912  models.common.C3                        [768, 768, 2, False]          \n",
      " 24      [17, 20, 23]  1     60615  models.yolo.Detect                      [10, [[10, 13, 16, 30, 33, 23], [30, 61, 62, 45, 59, 119], [116, 90, 156, 198, 373, 326]], [192, 384, 768]]\n",
      "Model summary: 369 layers, 20907687 parameters, 20907687 gradients, 48.2 GFLOPs\n",
      "\n",
      "Transferred 475/481 items from yolov5m.pt\n",
      "Scaled weight_decay = 0.0005\n",
      "\u001b[34m\u001b[1moptimizer:\u001b[0m SGD with parameter groups 79 weight (no decay), 82 weight, 82 bias\n",
      "\u001b[34m\u001b[1malbumentations: \u001b[0mBlur(always_apply=False, p=0.01, blur_limit=(3, 7)), MedianBlur(always_apply=False, p=0.01, blur_limit=(3, 7)), ToGray(always_apply=False, p=0.01), CLAHE(always_apply=False, p=0.01, clip_limit=(1, 4.0), tile_grid_size=(8, 8))\n",
      "\u001b[34m\u001b[1mtrain: \u001b[0mScanning '/opt/ml/baseline/level2-object-detection-level2-cv-19/dataset/s\u001b[0m\n",
      "\u001b[34m\u001b[1mtrain: \u001b[0mWARNING: /opt/ml/baseline/level2-object-detection-level2-cv-19/dataset/split_train/4041.jpg: 1 duplicate labels removed\n",
      "\u001b[34m\u001b[1mtrain: \u001b[0mCaching images (4.8GB ram): 100%|██████████| 3906/3906 [00:12<00:00, 304.\u001b[0m\n",
      "\u001b[34m\u001b[1mval: \u001b[0mScanning '/opt/ml/baseline/level2-object-detection-level2-cv-19/dataset/spl\u001b[0m\n",
      "\u001b[34m\u001b[1mval: \u001b[0mCaching images (1.2GB ram): 100%|██████████| 977/977 [00:07<00:00, 127.76it\u001b[0m\n",
      "Plotting labels to runs/train/bt64_yolov5m_scratch-high2/labels.jpg... \n"
     ]
    }
   ],
   "source": [
    "for img, hyps in zip([1280,1280,1280],['scratch-high','scratch-med','scratch-low']):\n",
    "    for b, m in zip([4, 4, 4, 4], ['yolov5s', 'yolov5m', 'yolov5l', 'yolov5x']):\n",
    "        !python train.py --epochs 300 --name bt{b}_{m}_{hyps} --batch {b} --weights {m}.pt --img {img} --data trash.yaml --cache --hyp hyp.{hyps}.yaml\n",
    "\n",
    "\n",
    "for img, hyps in zip([1280,1280,1280],['scratch-high','scratch-med','scratch-low']):\n",
    "    for b, m in zip([4, 4, 4, 4, 4], ['yolov5s', 'yolov5m', 'yolov5n', 'yolov5l', 'yolov5x']):\n",
    "        !python train.py --epochs 300 --name bt{b}_scr{m}_{hyps} --batch {b} --weights '' --img {img} --data trash.yaml --cache --hyp hyp.{hyps}.yaml --cfg {m}.yaml\n",
    "    \n",
    "\n",
    "\n",
    "#--img 640 --conf 0.001"
   ]
  },
  {
   "cell_type": "markdown",
   "metadata": {},
   "source": [
    "## val"
   ]
  },
  {
   "cell_type": "code",
   "execution_count": null,
   "metadata": {},
   "outputs": [],
   "source": [
    "for iou in [0.60, 0.65, 0.70, 0.75, 0.80, 0.85, 0.90, 0.95, 0.40, 0.45, 0.50, 0.55]:\n",
    "    for conf in [0.05, 0.5, 1.0, 2.0, 3.0, 5.0, 7.0, 10.0, 15, 20, 30, 40, 50]:\n",
    "        !python val.py --task test --data trash.yaml --iou {iou} --weight ./runs/train/bt4_yolov5s_scratch-high/weights/best.pt --save-json --save-txt --verbose --save-conf --conf-thres {conf} --name cof{conf}ap{iou}\n",
    "    "
   ]
  },
  {
   "cell_type": "markdown",
   "metadata": {},
   "source": [
    "bt4_yolov5s_scratch-high best.pt imgsz=640, conf_thres=0.05, iou_thres=0.5"
   ]
  },
  {
   "cell_type": "code",
   "execution_count": 2,
   "metadata": {},
   "outputs": [
    {
     "name": "stdout",
     "output_type": "stream",
     "text": [
      "\u001b[34m\u001b[1mval: \u001b[0mdata=/opt/ml/baseline/level2-object-detection-level2-cv-19/yolov5/data/trash.yaml, weights=['./runs/train/bt4_yolov5s_scratch-high/weights/best.pt'], batch_size=32, imgsz=640, conf_thres=0.01, iou_thres=0.6, task=test, device=, workers=8, single_cls=False, augment=False, verbose=True, save_txt=True, save_hybrid=False, save_conf=True, save_json=True, project=runs/val, name=bt4_yolov5s_scratch-highap0.6conf0.01, exist_ok=False, half=False, dnn=False\n",
      "WARNING: confidence threshold 0.01 >> 0.001 will produce invalid mAP values.\n",
      "YOLOv5 🚀 a1acb0a torch 1.11.0 CUDA:0 (Tesla V100-PCIE-32GB, 32510MiB)\n",
      "\n",
      "Fusing layers... \n",
      "Model summary: 213 layers, 7037095 parameters, 0 gradients, 15.9 GFLOPs\n",
      "\u001b[34m\u001b[1mtest: \u001b[0mScanning '/opt/ml/baseline/level2-object-detection-level2-cv-19/dataset/la\u001b[0m\n",
      "               Class     Images     Labels          P          R     mAP@.5 mAP@\n",
      "                 all       4871          0          0          0          0          0\n",
      "Speed: 0.2ms pre-process, 4.9ms inference, 4.7ms NMS per image at shape (32, 3, 640, 640)\n",
      "\n",
      "Evaluating pycocotools mAP... saving runs/val/bt4_yolov5s_scratch-highap0.6conf0.01/best_predictions.json...\n",
      "loading annotations into memory...\n",
      "pycocotools unable to run: [Errno 2] No such file or directory: '/opt/ml/baseline/level2-object-detection-level2-cv-19/dataset/annotations/instances_val2017.json'\n",
      "Results saved to \u001b[1mruns/val/bt4_yolov5s_scratch-highap0.6conf0.01\u001b[0m\n",
      "4869 labels saved to runs/val/bt4_yolov5s_scratch-highap0.6conf0.01/labels\n",
      "Exception ignored in: <function StorageWeakRef.__del__ at 0x7f16f1f94160>\n",
      "Traceback (most recent call last):\n",
      "  File \"/opt/conda/lib/python3.8/site-packages/torch/multiprocessing/reductions.py\", line 36, in __del__\n",
      "  File \"/opt/conda/lib/python3.8/site-packages/torch/storage.py\", line 520, in _free_weak_ref\n",
      "AttributeError: 'NoneType' object has no attribute '_free_weak_ref'\n",
      "Exception ignored in: <function StorageWeakRef.__del__ at 0x7f16f1f94160>\n",
      "Traceback (most recent call last):\n",
      "  File \"/opt/conda/lib/python3.8/site-packages/torch/multiprocessing/reductions.py\", line 36, in __del__\n",
      "  File \"/opt/conda/lib/python3.8/site-packages/torch/storage.py\", line 520, in _free_weak_ref\n",
      "AttributeError: 'NoneType' object has no attribute '_free_weak_ref'\n",
      "Exception ignored in: <function StorageWeakRef.__del__ at 0x7f16f1f94160>\n",
      "Traceback (most recent call last):\n",
      "  File \"/opt/conda/lib/python3.8/site-packages/torch/multiprocessing/reductions.py\", line 36, in __del__\n",
      "  File \"/opt/conda/lib/python3.8/site-packages/torch/storage.py\", line 520, in _free_weak_ref\n",
      "AttributeError: 'NoneType' object has no attribute '_free_weak_ref'\n",
      "Exception ignored in: <function StorageWeakRef.__del__ at 0x7f16f1f94160>\n",
      "Traceback (most recent call last):\n",
      "  File \"/opt/conda/lib/python3.8/site-packages/torch/multiprocessing/reductions.py\", line 36, in __del__\n",
      "  File \"/opt/conda/lib/python3.8/site-packages/torch/storage.py\", line 520, in _free_weak_ref\n",
      "AttributeError: 'NoneType' object has no attribute '_free_weak_ref'\n",
      "Exception ignored in: <function StorageWeakRef.__del__ at 0x7f16f1f94160>\n",
      "Traceback (most recent call last):\n",
      "  File \"/opt/conda/lib/python3.8/site-packages/torch/multiprocessing/reductions.py\", line 36, in __del__\n",
      "  File \"/opt/conda/lib/python3.8/site-packages/torch/storage.py\", line 520, in _free_weak_ref\n",
      "AttributeError: 'NoneType' object has no attribute '_free_weak_ref'\n"
     ]
    }
   ],
   "source": [
    "iou = 0.6\n",
    "conf = 0.01\n",
    "model = \"bt4_yolov5s_scratch-high\"\n",
    "!python val.py --task test --name {model}ap{iou}conf{conf} --data trash.yaml --iou {iou} --weight ./runs/train/bt4_yolov5s_scratch-high/weights/best.pt --save-json --save-txt --verbose --save-conf --conf-thres {conf}"
   ]
  },
  {
   "cell_type": "code",
   "execution_count": null,
   "metadata": {},
   "outputs": [],
   "source": []
  }
 ],
 "metadata": {
  "interpreter": {
   "hash": "d4d1e4263499bec80672ea0156c357c1ee493ec2b1c70f0acce89fc37c4a6abe"
  },
  "kernelspec": {
   "display_name": "Python 3.8.12 ('base')",
   "language": "python",
   "name": "python3"
  },
  "language_info": {
   "codemirror_mode": {
    "name": "ipython",
    "version": 3
   },
   "file_extension": ".py",
   "mimetype": "text/x-python",
   "name": "python",
   "nbconvert_exporter": "python",
   "pygments_lexer": "ipython3",
   "version": "3.8.12"
  },
  "orig_nbformat": 4
 },
 "nbformat": 4,
 "nbformat_minor": 2
}
