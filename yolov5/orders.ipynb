{
 "cells": [
  {
   "cell_type": "markdown",
   "metadata": {},
   "source": [
    "## single"
   ]
  },
  {
   "cell_type": "code",
   "execution_count": null,
   "metadata": {},
   "outputs": [],
   "source": [
    "!python train.py --batch 16 --epochs 10 --data trash_dy.yaml --weights yolov5l6.pt --cache"
   ]
  },
  {
   "cell_type": "markdown",
   "metadata": {},
   "source": [
    "## Sweep"
   ]
  },
  {
   "cell_type": "code",
   "execution_count": null,
   "metadata": {},
   "outputs": [],
   "source": [
    "flag = 2\n",
    "for img, hyps in zip([1280,1280,1280],['scratch-high','scratch-med','scratch-low']):\n",
    "    for b, m in zip([4, 4, 4, 4], ['yolov5s', 'yolov5m', 'yolov5l', 'yolov5x']):\n",
    "        if(flag > 0):\n",
    "            flag -= 1\n",
    "            continue\n",
    "        !python train.py --epochs 150 --name bt{b}_{m}_{hyps} --batch {b} --weights {m}.pt --img {img} --data trash_dy.yaml --cache --hyp hyp.{hyps}.yaml\n",
    "\n",
    "\n",
    "# for img, hyps in zip([1280,1280,1280],['scratch-high','scratch-med','scratch-low']):\n",
    "#     for b, m in zip([4, 4, 4, 4, 4], ['yolov5s', 'yolov5m', 'yolov5n', 'yolov5l', 'yolov5x']):\n",
    "#         !python train.py --epochs 150 --name bt{b}_scr{m}_{hyps} --batch {b} --weights '' --img {img} --data trash.yaml --cache --hyp hyp.{hyps}.yaml --cfg {m}.yaml\n",
    "    \n",
    "\n",
    "\n",
    "#--img 640 --conf 0.001"
   ]
  },
  {
   "cell_type": "markdown",
   "metadata": {},
   "source": [
    "## K-Fold"
   ]
  },
  {
   "cell_type": "code",
   "execution_count": 3,
   "metadata": {},
   "outputs": [
    {
     "name": "stdout",
     "output_type": "stream",
     "text": [
      "FOLD NUMBER:  0\n",
      "\u001b[34m\u001b[1mwandb\u001b[0m: Currently logged in as: \u001b[33mnext_level\u001b[0m (use `wandb login --relogin` to force relogin)\n",
      "\u001b[34m\u001b[1mtrain: \u001b[0mweights=yolov5l6.pt, cfg=, data=data_fold_0.yaml, hyp=hyp.scratch-high.yaml, epochs=200, batch_size=8, imgsz=1280, rect=False, resume=False, nosave=False, noval=False, noautoanchor=False, evolve=None, bucket=, cache=ram, image_weights=False, device=, multi_scale=False, single_cls=False, optimizer=SGD, sync_bn=False, workers=8, project=runs/train, name=yolov5l6-e-200-img-1280-fold-0, exist_ok=False, quad=False, cos_lr=False, label_smoothing=0.0, patience=100, freeze=[0], save_period=20, local_rank=-1, entity=None, upload_dataset=False, bbox_interval=-1, artifact_alias=latest\n",
      "\u001b[34m\u001b[1mgithub: \u001b[0mskipping check (not a git repository), for updates see https://github.com/ultralytics/yolov5\n",
      "YOLOv5 🚀 c79fa63 torch 1.11.0 CUDA:0 (Tesla V100-PCIE-32GB, 32510MiB)\n",
      "\n",
      "\u001b[34m\u001b[1mhyperparameters: \u001b[0mlr0=0.01, lrf=0.1, momentum=0.937, weight_decay=0.0005, warmup_epochs=3.0, warmup_momentum=0.8, warmup_bias_lr=0.1, box=0.05, cls=0.3, cls_pw=1.0, obj=0.7, obj_pw=1.0, iou_t=0.2, anchor_t=4.0, fl_gamma=0.0, hsv_h=0.015, hsv_s=0.7, hsv_v=0.4, degrees=0.0, translate=0.1, scale=0.9, shear=0.0, perspective=0.0, flipud=0.0, fliplr=0.5, mosaic=1.0, mixup=0.1, copy_paste=0.1\n",
      "\u001b[34m\u001b[1mTensorBoard: \u001b[0mStart with 'tensorboard --logdir runs/train', view at http://localhost:6006/\n",
      "\u001b[34m\u001b[1mwandb\u001b[0m: Tracking run with wandb version 0.12.11\n",
      "\u001b[34m\u001b[1mwandb\u001b[0m: Run data is saved locally in \u001b[35m\u001b[1m/opt/ml/baseline/level2-object-detection-level2-cv-19/yolov5/wandb/run-20220329_135838-2819nd5f\u001b[0m\n",
      "\u001b[34m\u001b[1mwandb\u001b[0m: Run \u001b[1m`wandb offline`\u001b[0m to turn off syncing.\n",
      "\u001b[34m\u001b[1mwandb\u001b[0m: Syncing run \u001b[33myolov5l6-e-200-img-1280-fold-0\u001b[0m\n",
      "\u001b[34m\u001b[1mwandb\u001b[0m: ⭐️ View project at \u001b[34m\u001b[4mhttps://wandb.ai/next_level/YOLOv5\u001b[0m\n",
      "\u001b[34m\u001b[1mwandb\u001b[0m: 🚀 View run at \u001b[34m\u001b[4mhttps://wandb.ai/next_level/YOLOv5/runs/2819nd5f\u001b[0m\n",
      "Overriding model.yaml nc=80 with nc=10\n",
      "\n",
      "                 from  n    params  module                                  arguments                     \n",
      "  0                -1  1      7040  models.common.Conv                      [3, 64, 6, 2, 2]              \n",
      "  1                -1  1     73984  models.common.Conv                      [64, 128, 3, 2]               \n",
      "  2                -1  3    156928  models.common.C3                        [128, 128, 3]                 \n",
      "  3                -1  1    295424  models.common.Conv                      [128, 256, 3, 2]              \n",
      "  4                -1  6   1118208  models.common.C3                        [256, 256, 6]                 \n",
      "  5                -1  1   1180672  models.common.Conv                      [256, 512, 3, 2]              \n",
      "  6                -1  9   6433792  models.common.C3                        [512, 512, 9]                 \n",
      "  7                -1  1   3540480  models.common.Conv                      [512, 768, 3, 2]              \n",
      "  8                -1  3   5611008  models.common.C3                        [768, 768, 3]                 \n",
      "  9                -1  1   7079936  models.common.Conv                      [768, 1024, 3, 2]             \n",
      " 10                -1  3   9971712  models.common.C3                        [1024, 1024, 3]               \n",
      " 11                -1  1   2624512  models.common.SPPF                      [1024, 1024, 5]               \n",
      " 12                -1  1    787968  models.common.Conv                      [1024, 768, 1, 1]             \n",
      " 13                -1  1         0  torch.nn.modules.upsampling.Upsample    [None, 2, 'nearest']          \n",
      " 14           [-1, 8]  1         0  models.common.Concat                    [1]                           \n",
      " 15                -1  3   6200832  models.common.C3                        [1536, 768, 3, False]         \n",
      " 16                -1  1    394240  models.common.Conv                      [768, 512, 1, 1]              \n",
      " 17                -1  1         0  torch.nn.modules.upsampling.Upsample    [None, 2, 'nearest']          \n",
      " 18           [-1, 6]  1         0  models.common.Concat                    [1]                           \n",
      " 19                -1  3   2757632  models.common.C3                        [1024, 512, 3, False]         \n",
      " 20                -1  1    131584  models.common.Conv                      [512, 256, 1, 1]              \n",
      " 21                -1  1         0  torch.nn.modules.upsampling.Upsample    [None, 2, 'nearest']          \n",
      " 22           [-1, 4]  1         0  models.common.Concat                    [1]                           \n",
      " 23                -1  3    690688  models.common.C3                        [512, 256, 3, False]          \n",
      " 24                -1  1    590336  models.common.Conv                      [256, 256, 3, 2]              \n",
      " 25          [-1, 20]  1         0  models.common.Concat                    [1]                           \n",
      " 26                -1  3   2495488  models.common.C3                        [512, 512, 3, False]          \n",
      " 27                -1  1   2360320  models.common.Conv                      [512, 512, 3, 2]              \n",
      " 28          [-1, 16]  1         0  models.common.Concat                    [1]                           \n",
      " 29                -1  3   5807616  models.common.C3                        [1024, 768, 3, False]         \n",
      " 30                -1  1   5309952  models.common.Conv                      [768, 768, 3, 2]              \n",
      " 31          [-1, 12]  1         0  models.common.Concat                    [1]                           \n",
      " 32                -1  3  10496000  models.common.C3                        [1536, 1024, 3, False]        \n",
      " 33  [23, 26, 29, 32]  1    115380  models.yolo.Detect                      [10, [[19, 27, 44, 40, 38, 94], [96, 68, 86, 152, 180, 137], [140, 301, 303, 264, 238, 542], [436, 615, 739, 380, 925, 792]], [256, 512, 768, 1024]]\n",
      "Model summary: 607 layers, 76231732 parameters, 76231732 gradients, 110.3 GFLOPs\n",
      "\n",
      "Transferred 787/795 items from yolov5l6.pt\n",
      "Scaled weight_decay = 0.0005\n",
      "\u001b[34m\u001b[1moptimizer:\u001b[0m SGD with parameter groups 131 weight (no decay), 135 weight, 135 bias\n",
      "\u001b[34m\u001b[1malbumentations: \u001b[0mBlur(always_apply=False, p=0.01, blur_limit=(3, 7)), MedianBlur(always_apply=False, p=0.01, blur_limit=(3, 7)), ToGray(always_apply=False, p=0.01), CLAHE(always_apply=False, p=0.01, clip_limit=(1, 4.0), tile_grid_size=(8, 8))\n",
      "\u001b[34m\u001b[1mtrain: \u001b[0mScanning '/opt/ml/baseline/level2-object-detection-level2-cv-19/yolov5/..\u001b[0m\n",
      "\u001b[34m\u001b[1mtrain: \u001b[0mWARNING: /opt/ml/baseline/level2-object-detection-level2-cv-19/yolov5/../dataset/dataset_folds_0/images/train/4041.jpg: 1 duplicate labels removed\n",
      "\u001b[34m\u001b[1mtrain: \u001b[0mNew cache created: /opt/ml/baseline/level2-object-detection-level2-cv-19/yolov5/../dataset/dataset_folds_0/labels/train.cache\n",
      "\u001b[34m\u001b[1mtrain: \u001b[0mCaching images (19.2GB ram): 100%|██████████| 3914/3914 [00:16<00:00, 233\u001b[0m\n",
      "\u001b[34m\u001b[1mval: \u001b[0mScanning '/opt/ml/baseline/level2-object-detection-level2-cv-19/yolov5/../d\u001b[0m\n",
      "\u001b[34m\u001b[1mval: \u001b[0mNew cache created: /opt/ml/baseline/level2-object-detection-level2-cv-19/yolov5/../dataset/dataset_folds_0/labels/valid.cache\n",
      "\u001b[34m\u001b[1mval: \u001b[0mCaching images (4.8GB ram): 100%|██████████| 969/969 [00:04<00:00, 218.24it\u001b[0m\n"
     ]
    }
   ],
   "source": [
    "NUM_FOLD = 5\n",
    "for fold in range(NUM_FOLD):    \n",
    "    print('FOLD NUMBER: ', fold)\n",
    "    !python train.py --img 1280 \\\n",
    "                     --batch 8 \\\n",
    "                     --epochs 200 \\\n",
    "                     --data data_fold_{fold}.yaml \\\n",
    "                     --weights yolov5l6.pt \\\n",
    "                     --save-period 20\\\n",
    "                     --cache \\\n",
    "                     --hyp hyp.scratch-high.yaml \\\n",
    "                     --name yolov5l6-e-200-img-1280-fold-{fold}"
   ]
  },
  {
   "cell_type": "markdown",
   "metadata": {},
   "source": [
    "## val"
   ]
  },
  {
   "cell_type": "code",
   "execution_count": null,
   "metadata": {},
   "outputs": [],
   "source": [
    "for iou in [0.60,0.65,0.70,0.75,0.80,0.85,0.90,0.95,0.40,0.45,0.50,0.55,]:\n",
    "    pass"
   ]
  },
  {
   "cell_type": "code",
   "execution_count": null,
   "metadata": {},
   "outputs": [],
   "source": [
    "iou = 0.5\n",
    "conf = 0.01\n",
    "model = \"bt4_yolov5x_scratch-high\" \n",
    "!python val.py --task test --name {model}ap{iou}conf{conf} --data trash_dy.yaml --iou {iou} --weight ./runs/train/{model}/weights/best.pt --save-json --save-txt --verbose --save-conf --conf-thres {conf} --augment"
   ]
  }
 ],
 "metadata": {
  "interpreter": {
   "hash": "d4d1e4263499bec80672ea0156c357c1ee493ec2b1c70f0acce89fc37c4a6abe"
  },
  "kernelspec": {
   "display_name": "Python 3.8.12 ('base')",
   "language": "python",
   "name": "python3"
  },
  "language_info": {
   "codemirror_mode": {
    "name": "ipython",
    "version": 3
   },
   "file_extension": ".py",
   "mimetype": "text/x-python",
   "name": "python",
   "nbconvert_exporter": "python",
   "pygments_lexer": "ipython3",
   "version": "3.8.12"
  },
  "orig_nbformat": 4
 },
 "nbformat": 4,
 "nbformat_minor": 2
}
